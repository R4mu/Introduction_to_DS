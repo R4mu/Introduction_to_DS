{
  "cells": [
    {
      "cell_type": "markdown",
      "id": "bb5f5811",
      "metadata": {
        "deletable": false,
        "id": "bb5f5811"
      },
      "source": [
        "\n",
        "# Assignment 2 for Course 1MS041\n",
        "Make sure you pass the `# ... Test` cells and\n",
        " submit your solution notebook in the corresponding assignment on the course website. You can submit multiple times before the deadline and your highest score will be used."
      ]
    },
    {
      "cell_type": "markdown",
      "id": "7fbf36f2",
      "metadata": {
        "deletable": false,
        "lx_assignment_number": "2",
        "lx_assignment_type": "ASSIGNMENT",
        "lx_assignment_type2print": "Assignment",
        "lx_problem_cell_type": "PROBLEM",
        "lx_problem_number": "1",
        "lx_problem_points": "8",
        "id": "7fbf36f2"
      },
      "source": [
        "---\n",
        "## Assignment 2, PROBLEM 1\n",
        "Maximum Points = 8"
      ]
    },
    {
      "cell_type": "markdown",
      "id": "db58f10b",
      "metadata": {
        "deletable": false,
        "lx_assignment_number": "2",
        "lx_assignment_type": "ASSIGNMENT",
        "lx_assignment_type2print": "Assignment",
        "lx_problem_cell_type": "PROBLEM",
        "lx_problem_number": "1",
        "lx_problem_points": "8",
        "id": "db58f10b"
      },
      "source": [
        "\n",
        "A courier company operates a fleet of delivery trucks that make deliveries to different parts of the city. The trucks are equipped with GPS tracking devices that record the location of each truck at regular intervals. The locations are divided into three regions: downtown, the suburbs, and the countryside. The following table shows the probabilities of a truck transitioning between these regions at each time step:\n",
        "\n",
        "| Current region | Probability of transitioning to downtown | Probability of transitioning to the suburbs | Probability of transitioning to the countryside |\n",
        "|----------------|--------------------------------------------|-----------------------------------------------|------------------------------------------------|\n",
        "| Downtown       | 0.3                                      | 0.4                                           | 0.3                                            |\n",
        "| Suburbs        | 0.2                                      | 0.5                                           | 0.3                                            |\n",
        "| Countryside    | 0.4                                      | 0.3                                           | 0.3                                            |\n",
        "\n",
        "1. If a truck is currently in the suburbs, what is the probability that it will be in the downtown region after two time steps? [1.5p]\n",
        "2. If a truck is currently in the suburbs, what is the probability that it will be in the downtown region **the first time** after two time steps? [1.5p]\n",
        "3. Is this Markov chain irreducible? [1.5p]\n",
        "4. What is the stationary distribution? [1.5p]\n",
        "5. Advanced question: What is the expected number of steps until the first time one enters the downtown region having started in the suburbs region. Hint: to get within 1 decimal point, it is enough to compute the probabilities for hitting times below 30. [2p]\n",
        "\n"
      ]
    },
    {
      "cell_type": "code",
      "execution_count": null,
      "id": "2c601f0f",
      "metadata": {
        "deletable": false,
        "lx_assignment_number": "2",
        "lx_assignment_type": "ASSIGNMENT",
        "lx_assignment_type2print": "Assignment",
        "lx_problem_cell_type": "PROBLEM",
        "lx_problem_number": "1",
        "lx_problem_points": "8",
        "colab": {
          "base_uri": "https://localhost:8080/"
        },
        "id": "2c601f0f",
        "outputId": "bca6b4ea-28d4-4f07-bb2e-7e0ee4c55db1"
      },
      "outputs": [
        {
          "output_type": "stream",
          "name": "stdout",
          "text": [
            "0.28\n"
          ]
        }
      ],
      "source": [
        "import numpy as np\n",
        "# Part 1\n",
        "\n",
        "# Fill in the answer to part 1 below as a decimal number\n",
        "# Downtown = 0\n",
        "# Suburb = 1\n",
        "# Countryside = 2\n",
        "#\n",
        "arr = [[0.3,0.4,0.3],[0.2,0.5,0.3],[0.4,0.3,0.3]]\n",
        "b = np.matrix(arr)\n",
        "result = b**2\n",
        "\n",
        "\n",
        "#We know that Pij(n) ie Probability of reaching j(0) from i(1) in n steps = (A^2)[i][j]\n",
        "\n",
        "problem1_p1 = result[1,0]\n",
        "print(problem1_p1)"
      ]
    },
    {
      "cell_type": "code",
      "execution_count": null,
      "id": "52a172dc",
      "metadata": {
        "deletable": false,
        "lx_assignment_number": "2",
        "lx_assignment_type": "ASSIGNMENT",
        "lx_assignment_type2print": "Assignment",
        "lx_problem_cell_type": "PROBLEM",
        "lx_problem_number": "1",
        "lx_problem_points": "8",
        "colab": {
          "base_uri": "https://localhost:8080/"
        },
        "id": "52a172dc",
        "outputId": "33c026b1-65b7-41b1-8db5-91ff7f3203a7"
      },
      "outputs": [
        {
          "output_type": "stream",
          "name": "stdout",
          "text": [
            "0.22\n"
          ]
        }
      ],
      "source": [
        "# Part 2\n",
        "\n",
        "# Fill in the answer to part 2 below as a decimal number\n",
        "#From the previous probability we subtract the probability of going to downtown first anf from there again downtown\n",
        "problem1_p2 = round(problem1_p1-b[1,0]*b[0,0],2)\n",
        "print(problem1_p2)"
      ]
    },
    {
      "cell_type": "code",
      "execution_count": null,
      "id": "a3b3872d",
      "metadata": {
        "deletable": false,
        "lx_assignment_number": "2",
        "lx_assignment_type": "ASSIGNMENT",
        "lx_assignment_type2print": "Assignment",
        "lx_problem_cell_type": "PROBLEM",
        "lx_problem_number": "1",
        "lx_problem_points": "8",
        "id": "a3b3872d"
      },
      "outputs": [],
      "source": [
        "# Part 3\n",
        "\n",
        "# Fill in the answer to part 3 below as a boolean\n",
        "problem1_irreducible = True"
      ]
    },
    {
      "cell_type": "code",
      "execution_count": null,
      "id": "1b9d0a00",
      "metadata": {
        "deletable": false,
        "lx_assignment_number": "2",
        "lx_assignment_type": "ASSIGNMENT",
        "lx_assignment_type2print": "Assignment",
        "lx_problem_cell_type": "PROBLEM",
        "lx_problem_number": "1",
        "lx_problem_points": "8",
        "id": "1b9d0a00"
      },
      "outputs": [],
      "source": [
        "# Part 4\n",
        "\n",
        "# Fill in the answer to part 4 below\n",
        "# the answer should be a numpy array of length 3\n",
        "# make sure that the entries sums to 1!\n",
        "problem1_stationary = [0.289,0.411,0.3]"
      ]
    },
    {
      "cell_type": "code",
      "execution_count": null,
      "id": "481625e3",
      "metadata": {
        "deletable": false,
        "lx_assignment_number": "2",
        "lx_assignment_type": "ASSIGNMENT",
        "lx_assignment_type2print": "Assignment",
        "lx_problem_cell_type": "PROBLEM",
        "lx_problem_number": "1",
        "lx_problem_points": "8",
        "id": "481625e3"
      },
      "outputs": [],
      "source": [
        "# Part 5\n",
        "\n",
        "# Fill in the answer to part 5 below\n",
        "# That is, the expected number of steps as a decimal number\n",
        "problem1_ET = 3"
      ]
    },
    {
      "cell_type": "markdown",
      "id": "4389563e",
      "metadata": {
        "deletable": false,
        "lx_assignment_number": "2",
        "lx_assignment_type": "ASSIGNMENT",
        "lx_assignment_type2print": "Assignment",
        "lx_problem_cell_type": "PROBLEM",
        "lx_problem_number": "2",
        "lx_problem_points": "4",
        "id": "4389563e"
      },
      "source": [
        "---\n",
        "## Assignment 2, PROBLEM 2\n",
        "Maximum Points = 4"
      ]
    },
    {
      "cell_type": "markdown",
      "id": "d9a825d1",
      "metadata": {
        "deletable": false,
        "lx_assignment_number": "2",
        "lx_assignment_type": "ASSIGNMENT",
        "lx_assignment_type2print": "Assignment",
        "lx_problem_cell_type": "PROBLEM",
        "lx_problem_number": "2",
        "lx_problem_points": "4",
        "id": "d9a825d1"
      },
      "source": [
        "\n",
        "Use the **Multi-dimensional Constrained Optimisation** example (in `07-Optimization.ipynb`) to numerically find the MLe for the mean and variance parameter based on `normallySimulatedDataSamples`, an array obtained by a specific simulation of $30$ IID samples from the $Normal(10,2)$ random variable.\n",
        "\n",
        "Recall that $Normal(\\mu, \\sigma^2)$ RV has the probability density function given by:\n",
        "\n",
        "$$\n",
        "f(x ;\\mu, \\sigma) = \\displaystyle\\frac{1}{\\sigma\\sqrt{2\\pi}}\\exp\\left(\\frac{-1}{2\\sigma^2}(x-\\mu)^2\\right)\n",
        "$$\n",
        "\n",
        "The two parameters, $\\mu \\in \\mathbb{R} := (-\\infty,\\infty)$ and $\\sigma \\in (0,\\infty)$, are sometimes referred to as the location and scale parameters.\n",
        "\n",
        "You know that the log likelihood function for $n$ IID samples from a Normal RV with parameters $\\mu$ and $\\sigma$ simply follows from $\\sum_{i=1}^n \\log(f(x_i; \\mu,\\sigma))$, based on the IID assumption.\n",
        "\n",
        "NOTE: When setting bounding boxes for $\\mu$ and $\\sigma$ try to start with some guesses like $[-20,20]$ and $[0.1,5.0]$ and make it larger if the solution is at the boundary. Making the left bounding-point for $\\sigma$ too close to $0.0$ will cause division by zero Warnings. Other numerical instabilities can happen in such iterative numerical solutions to the MLe. You need to be patient and learn by trial-and-error. You will see the mathematical theory in more details in a future course in scientific computing/optimisation. So don't worry too much now except learning to use it for our problems.  "
      ]
    },
    {
      "cell_type": "code",
      "execution_count": null,
      "id": "699b52ca",
      "metadata": {
        "deletable": false,
        "lx_assignment_number": "2",
        "lx_assignment_type": "ASSIGNMENT",
        "lx_assignment_type2print": "Assignment",
        "lx_problem_cell_type": "PROBLEM",
        "lx_problem_number": "2",
        "lx_problem_points": "4",
        "id": "699b52ca",
        "colab": {
          "base_uri": "https://localhost:8080/"
        },
        "outputId": "6481286b-9ad4-49a5-cd3e-51001e183eba"
      },
      "outputs": [
        {
          "output_type": "execute_result",
          "data": {
            "text/plain": [
              "  message: CONVERGENCE: REL_REDUCTION_OF_F_<=_FACTR*EPSMCH\n",
              "  success: True\n",
              "   status: 0\n",
              "      fun: 58.63138728248277\n",
              "        x: [ 9.269e+00  1.708e+00]\n",
              "      nit: 5\n",
              "      jac: [ 1.066e-05 -6.750e-05]\n",
              "     nfev: 27\n",
              "     njev: 9\n",
              " hess_inv: <2x2 LbfgsInvHessProduct with dtype=float64>"
            ]
          },
          "metadata": {},
          "execution_count": 6
        }
      ],
      "source": [
        "\n",
        "import numpy as np\n",
        "from scipy import optimize\n",
        "import math as m\n",
        "# do NOT change the next three lines\n",
        "np.random.seed(123456) # set seed\n",
        "# simulate 30 IID samples drawn from Normal(10,2)RV\n",
        "normallySimulatedDataSamples = np.random.normal(10,2,30)\n",
        "\n",
        "# define the negative log likelihoo function you want to minimise by editing XXX\n",
        "def negLogLklOfIIDNormalSamples(parameters):\n",
        "    '''return the -log(likelihood) of normallySimulatedDataSamples with mean and var parameters'''\n",
        "    NLL = 0\n",
        "    mu_param=parameters[0]\n",
        "    sigma_param=parameters[1]\n",
        "    for x in normallySimulatedDataSamples:\n",
        "      NLL += -m.log(1 / (sigma_param * m.sqrt(2 * m.pi))) + ((x - mu_param) ** 2) / (2 * sigma_param ** 2)\n",
        "    # add more or less lines as you need\n",
        "    return NLL\n",
        "\n",
        "# you should only change XXX below and not anything else\n",
        "parameter_bounding_box=((-20, 20), (0.1, 5.0)) # specify the constraints for each parameter - some guess work...\n",
        "initial_arguments = np.array([10, 2]) # point in 2D to initialise the minimize algorithm\n",
        "result_problem2_opt = optimize.minimize(negLogLklOfIIDNormalSamples, initial_arguments, bounds=parameter_bounding_box)\n",
        "# call the minimize method above finally! you need to play a bit to get initial conditions and bounding box ok\n",
        "result_problem2_opt\n"
      ]
    },
    {
      "cell_type": "markdown",
      "id": "948157f2",
      "metadata": {
        "deletable": false,
        "lx_assignment_number": "2",
        "lx_assignment_type": "ASSIGNMENT",
        "lx_assignment_type2print": "Assignment",
        "lx_problem_cell_type": "PROBLEM",
        "lx_problem_number": "3",
        "lx_problem_points": "4",
        "id": "948157f2"
      },
      "source": [
        "---\n",
        "## Assignment 2, PROBLEM 3\n",
        "Maximum Points = 4"
      ]
    },
    {
      "cell_type": "markdown",
      "id": "0b9c787c",
      "metadata": {
        "deletable": false,
        "lx_assignment_number": "2",
        "lx_assignment_type": "ASSIGNMENT",
        "lx_assignment_type2print": "Assignment",
        "lx_problem_cell_type": "PROBLEM",
        "lx_problem_number": "3",
        "lx_problem_points": "4",
        "id": "0b9c787c"
      },
      "source": [
        "\n",
        "\n",
        "Derive the maximum likelihood estimate for $n$ IID samples from a random variable with the following probability density function:\n",
        "$$\n",
        "f(x; \\lambda) = \\frac{1}{24} \\lambda^5 x^4 \\exp(-\\lambda x), \\qquad \\text{ where, } \\lambda>0, x > 0\n",
        "$$\n",
        "\n",
        "You can solve the MLe by hand (using pencil paper or using key-strokes). Present your solution as the return value of a function called `def MLeForAssignment2Problem3(x)`, where `x` is a list of $n$ input data points."
      ]
    },
    {
      "cell_type": "code",
      "execution_count": null,
      "id": "41720f28",
      "metadata": {
        "deletable": false,
        "lx_assignment_number": "2",
        "lx_assignment_type": "ASSIGNMENT",
        "lx_assignment_type2print": "Assignment",
        "lx_problem_cell_type": "PROBLEM",
        "lx_problem_number": "3",
        "lx_problem_points": "4",
        "id": "41720f28"
      },
      "outputs": [],
      "source": [
        "\n",
        "# do not change the name of the function, just replace XXX with the appropriate expressions for the MLe\n",
        "def MLeForAssignment2Problem3(x):\n",
        "    '''write comment of what this function does'''\n",
        "    sum=0\n",
        "    n = len(x)\n",
        "    for i in x:\n",
        "      sum+=i\n",
        "    res = (5*n)/sum\n",
        "    return res"
      ]
    },
    {
      "cell_type": "markdown",
      "id": "84e51e44",
      "metadata": {
        "deletable": false,
        "lx_assignment_number": "2",
        "lx_assignment_type": "ASSIGNMENT",
        "lx_assignment_type2print": "Assignment",
        "lx_problem_cell_type": "PROBLEM",
        "lx_problem_number": "4",
        "lx_problem_points": "8",
        "id": "84e51e44"
      },
      "source": [
        "---\n",
        "## Assignment 2, PROBLEM 4\n",
        "Maximum Points = 8"
      ]
    },
    {
      "cell_type": "markdown",
      "id": "2e67892b",
      "metadata": {
        "deletable": false,
        "lx_assignment_number": "2",
        "lx_assignment_type": "ASSIGNMENT",
        "lx_assignment_type2print": "Assignment",
        "lx_problem_cell_type": "PROBLEM",
        "lx_problem_number": "4",
        "lx_problem_points": "8",
        "id": "2e67892b"
      },
      "source": [
        "\n",
        "## Random variable generation and transformation\n",
        "\n",
        "The purpose of this problem is to show that you can implement your own sampler, this will be built in the following three steps:\n",
        "\n",
        "1. [2p] Implement a Linear Congruential Generator where you tested out a good combination (a large $M$ with $a,b$ satisfying the Hull-Dobell (Thm 6.8)) of parameters. Follow the instructions in the code block.\n",
        "2. [2p] Using a generator construct random numbers from the uniform $[0,1]$ distribution.\n",
        "3. [4p] Using a uniform $[0,1]$ random generator, generate samples from\n",
        "\n",
        "$$p_0(x) = \\frac{\\pi}{2}|\\sin(2\\pi x)|, \\quad x \\in [0,1] \\enspace .$$\n",
        "\n",
        "Using the **Accept-Reject** sampler (**Algorithm 1** in TFDS notes) with sampling density given by the uniform $[0,1]$ distribution."
      ]
    },
    {
      "cell_type": "code",
      "execution_count": null,
      "id": "530446bc",
      "metadata": {
        "deletable": false,
        "lx_assignment_number": "2",
        "lx_assignment_type": "ASSIGNMENT",
        "lx_assignment_type2print": "Assignment",
        "lx_problem_cell_type": "PROBLEM",
        "lx_problem_number": "4",
        "lx_problem_points": "8",
        "id": "530446bc"
      },
      "outputs": [],
      "source": [
        "import numpy as np\n",
        "\n",
        "def problem4_LCG(size=None, seed = 0):\n",
        "    \"\"\"\n",
        "    A linear congruential generator that generates pseudo random numbers according to size.\n",
        "\n",
        "    Parameters\n",
        "    -------------\n",
        "    size : an integer denoting how many samples should be produced\n",
        "    seed : the starting point of the LCG, i.e. u0 in the notes.\n",
        "\n",
        "    Returns\n",
        "    -------------\n",
        "    out : a list of the pseudo random numbers\n",
        "    \"\"\"\n",
        "    a = 1664525\n",
        "    b = 1013904223\n",
        "    m = 2**32\n",
        "    x = seed\n",
        "    arr = []\n",
        "    for i in range(size):\n",
        "      x = (a*x+b)%m\n",
        "      arr = np.append(arr,x)\n",
        "\n",
        "    return arr"
      ]
    },
    {
      "cell_type": "code",
      "execution_count": null,
      "id": "8d215c5a",
      "metadata": {
        "deletable": false,
        "lx_assignment_number": "2",
        "lx_assignment_type": "ASSIGNMENT",
        "lx_assignment_type2print": "Assignment",
        "lx_problem_cell_type": "PROBLEM",
        "lx_problem_number": "4",
        "lx_problem_points": "8",
        "id": "8d215c5a"
      },
      "outputs": [],
      "source": [
        "\n",
        "def problem4_uniform(generator=None, period = 1, size=None, seed=0):\n",
        "    \"\"\"\n",
        "    Takes a generator and produces samples from the uniform [0,1] distribution according\n",
        "    to size.\n",
        "\n",
        "    Parameters\n",
        "    -------------\n",
        "    generator : a function of type generator(size,seed) and produces the same result as problem1_LCG, i.e. pseudo random numbers in the range {0,1,...,period-1}\n",
        "    period : the period of the generator\n",
        "    seed : the seed to be used in the generator provided\n",
        "    size : an integer denoting how many samples should be produced\n",
        "\n",
        "    Returns\n",
        "    --------------\n",
        "    out : a list of the uniform pseudo random numbers\n",
        "    \"\"\"\n",
        "    m = 2**32\n",
        "    arr2 = generator(size,seed)\n",
        "\n",
        "\n",
        "    for i in range (len(arr2)):\n",
        "      arr2[i] = arr2[i]/m\n",
        "\n",
        "    return arr2"
      ]
    },
    {
      "cell_type": "code",
      "execution_count": null,
      "id": "15832284",
      "metadata": {
        "deletable": false,
        "lx_assignment_number": "2",
        "lx_assignment_type": "ASSIGNMENT",
        "lx_assignment_type2print": "Assignment",
        "lx_problem_cell_type": "PROBLEM",
        "lx_problem_number": "4",
        "lx_problem_points": "8",
        "id": "15832284"
      },
      "outputs": [],
      "source": [
        "import math as m\n",
        "def problem4_accept_reject(uniformGenerator=None, n_iterations=None, seed=0):\n",
        "    \"\"\"\n",
        "    Takes a generator that produces uniform pseudo random [0,1] numbers\n",
        "    and produces samples from (pi/2)*abs(sin(x*2*pi)) using an Accept-Reject\n",
        "    sampler with the uniform distribution as the proposal distribution.\n",
        "    Runs n_iterations\n",
        "\n",
        "    Parameters\n",
        "    -------------\n",
        "    generator : a function of the type generator(size,seed) that produces uniform pseudo random\n",
        "    numbers from [0,1]\n",
        "    seed : the seed to be used in the generator provided\n",
        "    n_iterations : an integer denoting how many attempts should be made in the accept-reject sampler\n",
        "\n",
        "    Returns\n",
        "    --------------\n",
        "    out : a list of the pseudo random numbers with the specified distribution\n",
        "    \"\"\"\n",
        "    arr3 = []\n",
        "    for i in range(n_iterations):\n",
        "      seed = 0\n",
        "      x = problem4_uniform(uniformGenerator, period = 1, size=1, seed=seed)\n",
        "      seed = x[len(x)-1]\n",
        "      t = (np.pi / 2) * np.abs(m.sin(2 * np.pi * seed))\n",
        "      if seed<=t:\n",
        "        arr3.append(seed)\n",
        "    return arr3"
      ]
    },
    {
      "cell_type": "markdown",
      "id": "9a298b4e",
      "metadata": {
        "deletable": false,
        "lx_assignment_number": "2",
        "lx_assignment_type": "ASSIGNMENT",
        "lx_assignment_type2print": "Assignment",
        "lx_problem_cell_type": "Test",
        "lx_problem_number": "4",
        "lx_problem_points": "8",
        "id": "9a298b4e"
      },
      "source": [
        "---\n",
        "#### Local Test for Assignment 2, PROBLEM 4\n",
        "Evaluate cell below to make sure your answer is valid.                             You **should not** modify anything in the cell below when evaluating it to do a local test of                             your solution.\n",
        "You may need to include and evaluate code snippets from lecture notebooks in cells above to make the local test work correctly sometimes (see error messages for clues). This is meant to help you become efficient at recalling materials covered in lectures that relate to this problem. Such local tests will generally not be available in the exam."
      ]
    },
    {
      "cell_type": "code",
      "execution_count": null,
      "id": "26cd1592",
      "metadata": {
        "deletable": false,
        "lx_assignment_number": "2",
        "lx_assignment_type": "ASSIGNMENT",
        "lx_assignment_type2print": "Assignment",
        "lx_problem_cell_type": "Test",
        "lx_problem_number": "4",
        "lx_problem_points": "8",
        "id": "26cd1592",
        "colab": {
          "base_uri": "https://localhost:8080/"
        },
        "outputId": "0d6af1a0-aaa1-4bde-bf06-0d2c17e8c6d2"
      },
      "outputs": [
        {
          "output_type": "stream",
          "name": "stdout",
          "text": [
            "LCG output: [1.01556875e+09 1.58600547e+09 2.16570304e+09 3.02745056e+09\n",
            " 2.17083232e+08 1.58706925e+09 3.32758159e+09 2.38881172e+09\n",
            " 7.08379080e+07 2.74554084e+09]\n",
            "Uniform sampler [0.23645553 0.36927067 0.50424203 0.70488326 0.05054363 0.36951835\n",
            " 0.77476296 0.55618857 0.01649324 0.63924604]\n",
            "Accept-Reject sampler [5.496385806344137e-11, 5.496385806344137e-11, 5.496385806344137e-11, 5.496385806344137e-11, 5.496385806344137e-11, 5.496385806344137e-11, 5.496385806344137e-11, 5.496385806344137e-11, 5.496385806344137e-11, 5.496385806344137e-11, 5.496385806344137e-11, 5.496385806344137e-11, 5.496385806344137e-11, 5.496385806344137e-11, 5.496385806344137e-11, 5.496385806344137e-11, 5.496385806344137e-11, 5.496385806344137e-11, 5.496385806344137e-11, 5.496385806344137e-11]\n"
          ]
        }
      ],
      "source": [
        "\n",
        "# If you managed to solve all three parts you can test the following code to see if it runs\n",
        "# you have to change the period to match your LCG though, this is marked as XXX.\n",
        "# It is a very good idea to check these things using the histogram function in sagemath\n",
        "# try with a larger number of samples, up to 10000 should run\n",
        "\n",
        "print(\"LCG output: %s\" % problem4_LCG(size=10, seed = 1))\n",
        "\n",
        "period = 2**32\n",
        "\n",
        "print(\"Uniform sampler %s\" % problem4_uniform(generator=problem4_LCG, period = period, size=10, seed=1))\n",
        "\n",
        "uniform_sampler = lambda size,seed: problem4_uniform(generator=problem4_LCG, period = period, size=size, seed=seed)\n",
        "\n",
        "print(\"Accept-Reject sampler %s\" % problem4_accept_reject(uniformGenerator = uniform_sampler,n_iterations=20,seed=1))"
      ]
    },
    {
      "cell_type": "code",
      "execution_count": null,
      "id": "5318f370",
      "metadata": {
        "deletable": false,
        "lx_assignment_number": "2",
        "lx_assignment_type": "ASSIGNMENT",
        "lx_assignment_type2print": "Assignment",
        "lx_problem_cell_type": "Test",
        "lx_problem_number": "4",
        "lx_problem_points": "8",
        "id": "5318f370",
        "colab": {
          "base_uri": "https://localhost:8080/"
        },
        "outputId": "585d3fe2-94ae-47b1-8607-f5ff9055edb6"
      },
      "outputs": [
        {
          "output_type": "stream",
          "name": "stdout",
          "text": [
            "Accept-Reject sampler [1.9660728320596929e-10, 1.9660728320596929e-10, 1.9660728320596929e-10, 1.9660728320596929e-10, 1.9660728320596929e-10, 1.9660728320596929e-10, 1.9660728320596929e-10, 1.9660728320596929e-10, 1.9660728320596929e-10, 1.9660728320596929e-10, 1.9660728320596929e-10, 1.9660728320596929e-10, 1.9660728320596929e-10, 1.9660728320596929e-10, 1.9660728320596929e-10, 1.9660728320596929e-10, 1.9660728320596929e-10, 1.9660728320596929e-10, 1.9660728320596929e-10, 1.9660728320596929e-10]\n"
          ]
        }
      ],
      "source": [
        "\n",
        "# If however you did not manage to implement either part 1 or part 2 but still want to check part 3, you can run the code below\n",
        "\n",
        "def testUniformGenerator(size,seed):\n",
        "    import random\n",
        "    random.seed(seed)\n",
        "\n",
        "    return [random.uniform(0,1) for s in range(size)]\n",
        "\n",
        "print(\"Accept-Reject sampler %s\" % problem4_accept_reject(uniformGenerator=testUniformGenerator, n_iterations=20, seed=1))"
      ]
    },
    {
      "cell_type": "code",
      "source": [],
      "metadata": {
        "id": "-F7KSx5wGXR3"
      },
      "id": "-F7KSx5wGXR3",
      "execution_count": null,
      "outputs": []
    }
  ],
  "metadata": {
    "lx_assignment_number": 2,
    "lx_course_instance": "2024",
    "lx_course_name": "Introduction to Data Science",
    "lx_course_number": "1MS041",
    "colab": {
      "provenance": []
    },
    "language_info": {
      "name": "python"
    },
    "kernelspec": {
      "name": "python3",
      "display_name": "Python 3"
    }
  },
  "nbformat": 4,
  "nbformat_minor": 5
}