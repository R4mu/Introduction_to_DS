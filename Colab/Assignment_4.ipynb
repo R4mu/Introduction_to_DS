{
  "cells": [
    {
      "cell_type": "markdown",
      "id": "e9959f48",
      "metadata": {
        "deletable": false,
        "id": "e9959f48"
      },
      "source": [
        "\n",
        "# Assignment 4 for Course 1MS041\n",
        "Make sure you pass the `# ... Test` cells and\n",
        " submit your solution notebook in the corresponding assignment on the course website. You can submit multiple times before the deadline and your highest score will be used."
      ]
    },
    {
      "cell_type": "markdown",
      "id": "b63d8b71",
      "metadata": {
        "deletable": false,
        "lx_assignment_number": "4",
        "lx_assignment_type": "ASSIGNMENT",
        "lx_assignment_type2print": "Assignment",
        "lx_problem_cell_type": "PROBLEM",
        "lx_problem_number": "1",
        "lx_problem_points": "24",
        "id": "b63d8b71"
      },
      "source": [
        "---\n",
        "## Assignment 4, PROBLEM 1\n",
        "Maximum Points = 24"
      ]
    },
    {
      "cell_type": "markdown",
      "id": "04e1585d",
      "metadata": {
        "deletable": false,
        "lx_assignment_number": "4",
        "lx_assignment_type": "ASSIGNMENT",
        "lx_assignment_type2print": "Assignment",
        "lx_problem_cell_type": "PROBLEM",
        "lx_problem_number": "1",
        "lx_problem_points": "24",
        "id": "04e1585d"
      },
      "source": [
        "\n",
        "    This time the assignment only consists of one problem, but we will do a more comprehensive analysis instead.\n",
        "\n",
        "Consider the dataset `Corona_NLP_train.csv` that you can get from the course website [git](https://github.com/datascience-intro/1MS041-2024/blob/main/notebooks/data/Corona_NLP_train.csv). The data is \"Coronavirus tweets NLP - Text Classification\" that can be found on [kaggle](https://www.kaggle.com/datasets/datatattle/covid-19-nlp-text-classification). The data has several columns, but we will only be working with `OriginalTweet`and `Sentiment`.\n",
        "\n",
        "1. [3p] Load the data and filter out those tweets that have `Sentiment`=`Neutral`. Let $X$ represent the `OriginalTweet` and let\n",
        "    $$\n",
        "        Y =\n",
        "        \\begin{cases}\n",
        "        1 & \\text{if sentiment is towards positive}\n",
        "        \\\\\n",
        "        0 & \\text{if sentiment is towards negative}.\n",
        "        \\end{cases}\n",
        "    $$\n",
        "    Put the resulting arrays into the variables $X$ and $Y$. Split the data into three parts, train/test/validation where train is 60% of the data, test is 15% and validation is 25% of the data. Do not do this randomly, this is to make sure that we all did the same splits (we are in this case assuming the data is IID as presented in the dataset). That is [train,test,validation] is the splitting layout.\n",
        "\n",
        "2. [4p] There are many ways to solve this classification problem. The first main issue to resolve is to convert the $X$ variable to something that you can feed into a machine learning model. For instance, you can first use [`CountVectorizer`](https://scikit-learn.org/1.5/modules/generated/sklearn.feature_extraction.text.CountVectorizer.html) as the first step. The step that comes after should be a `LogisticRegression` model, but for this to work you need to put together the `CountVectorizer` and the `LogisticRegression` model into a [`Pipeline`](https://scikit-learn.org/1.5/modules/generated/sklearn.pipeline.Pipeline.html#sklearn.pipeline.Pipeline). Fill in the variable `model` such that it accepts the raw text as input and outputs a number $0$ or $1$, make sure that `model.predict_proba` works for this. **Hint: You might need to play with the parameters of LogisticRegression to get convergence, make sure that it doesn't take too long or the autograder might kill your code**\n",
        "3. [3p] Use your trained model and calculate the precision and recall on both classes. Fill in the corresponding variables with the answer.\n",
        "4. [3p] Let us now define a cost function\n",
        "    * A positive tweet that is classified as negative will have a cost of 1\n",
        "    * A negative tweet that is classified as positive will have a cost of 5\n",
        "    * Correct classifications cost 0\n",
        "    \n",
        "    complete filling the function `cost` to compute the cost of a prediction model under a certain prediction threshold (recall our precision recall lecture and the `predict_proba` function from trained models).\n",
        "\n",
        "5. [4p] Now, we wish to select the threshold of our classifier that minimizes the cost, fill in the selected threshold value in value `optimal_threshold`.\n",
        "6. [4p] With your newly computed threshold value, compute the cost of putting this model in production by computing the cost using the validation data. Also provide a confidence interval of the cost using Hoeffdings inequality with a 99% confidence.\n",
        "7. [3p] Let $t$ be the threshold you found and $f$ the model you fitted (one of the outputs of `predict_proba`), if we define the random variable\n",
        "    $$\n",
        "        C = (1-1_{f(X)\\geq t})Y+5(1-Y)1_{f(X) \\geq t}\n",
        "    $$\n",
        "    then $C$ denotes the cost of a randomly chosen tweet. In the previous step we estimated $\\mathbb{E}[C]$ using the empirical mean. However, since the threshold is chosen to minimize cost it is likely that $C=0$ or $C=1$ than $C=5$ as such it will have a low variance. Compute the empirical variance of $C$ on the validation set. What would be the confidence interval if we used Bennett's inequality instead of Hoeffding in point 6 but with the computed empirical variance as our guess for the variance?"
      ]
    },
    {
      "cell_type": "code",
      "execution_count": null,
      "id": "49e6fa33",
      "metadata": {
        "deletable": false,
        "lx_assignment_number": "4",
        "lx_assignment_type": "ASSIGNMENT",
        "lx_assignment_type2print": "Assignment",
        "lx_problem_cell_type": "PROBLEM",
        "lx_problem_number": "1",
        "lx_problem_points": "24",
        "id": "49e6fa33"
      },
      "outputs": [],
      "source": [
        "import pandas as pd\n",
        "from sklearn import *\n",
        "from sklearn import preprocessing\n",
        "from sklearn.model_selection import train_test_split\n",
        "from sklearn.feature_extraction.text import CountVectorizer\n",
        "from sklearn.linear_model import LogisticRegression\n",
        "from sklearn.pipeline import Pipeline\n",
        "from sklearn.metrics import precision_score, recall_score\n",
        "import numpy as np\n",
        "# Part 1\n",
        "\n",
        "# Load the data from the file specified in the problem definition and make sure that it is loaded using\n",
        "# the search path `data/Corona_NLP_train.csv`. This is to make sure the autograder and your computer have the same\n",
        "# file path and can load the data correctly.\n",
        "\n",
        "# Contrary to how many other problems are structured, this problem actually requires you to\n",
        "# have X on the shape (n_samples, ) that is a 1-dimensional array. Otherwise it will cause a bunch\n",
        "# of errors in the autograder or also in for instance CountVectorizer.\n",
        "\n",
        "# Make sure that all your data is numpy arrays and not pandas dataframes or series.\n",
        "label_encoder = preprocessing.LabelEncoder()\n",
        "data = pd.read_csv('data/Corona_NLP_train.csv',encoding='ISO-8859-1')\n",
        "data = data.drop(data[data['Sentiment']=='Neutral'].index)\n",
        "\n",
        "custom_mapping = {\n",
        "    'Extremely Negative': 0,\n",
        "    'Extremely Positive': 1,\n",
        "    'Positive': 1,\n",
        "    'Negative': 0\n",
        "}\n",
        "\n",
        "data['Sentiment'] = data['Sentiment'].map(custom_mapping)\n",
        "\n",
        "\n",
        "X = data['OriginalTweet'].to_numpy()\n",
        "Y = data['Sentiment'].to_numpy()\n",
        "\n",
        "X_train,X_temp,Y_train,Y_temp = train_test_split(X,Y,test_size=0.4,random_state=42)\n",
        "X_test,X_valid,Y_test,Y_valid = train_test_split(X_temp,Y_temp,test_size=25/40,random_state=42)\n",
        "\n",
        "# X_train = XXX\n",
        "# Y_train = YYY\n",
        "# X_test = XXX\n",
        "# Y_test = YYY\n",
        "# X_valid = XXX\n",
        "# Y_valid = YYY"
      ]
    },
    {
      "cell_type": "code",
      "execution_count": null,
      "id": "078fe203",
      "metadata": {
        "deletable": false,
        "lx_assignment_number": "4",
        "lx_assignment_type": "ASSIGNMENT",
        "lx_assignment_type2print": "Assignment",
        "lx_problem_cell_type": "PROBLEM",
        "lx_problem_number": "1",
        "lx_problem_points": "24",
        "id": "078fe203"
      },
      "outputs": [],
      "source": [
        "# Part 2\n",
        "\n",
        "# Train a machine learning model or pipeline that can take the raw strings from X and predict Y=0,1 depending on the\n",
        "# sentiment of the tweet. Store the trained model in the variable `model`.\n",
        "from sklearn.feature_extraction.text import CountVectorizer\n",
        "\n",
        "model = Pipeline([\n",
        "    ('vectorizer', CountVectorizer()),\n",
        "    ('classifier', LogisticRegression(max_iter=1000, solver='liblinear'))\n",
        "])\n",
        "\n",
        "model.fit(X_train, Y_train)\n",
        "y_pred_test = model.predict(X_test)\n",
        "y_pred_proba_test = model.predict_proba(X_test)[:, 1]"
      ]
    },
    {
      "cell_type": "code",
      "execution_count": null,
      "id": "ec6fd1d4",
      "metadata": {
        "deletable": false,
        "lx_assignment_number": "4",
        "lx_assignment_type": "ASSIGNMENT",
        "lx_assignment_type2print": "Assignment",
        "lx_problem_cell_type": "PROBLEM",
        "lx_problem_number": "1",
        "lx_problem_points": "24",
        "id": "ec6fd1d4"
      },
      "outputs": [],
      "source": [
        "\n",
        "# Part 3\n",
        "\n",
        "# Evaluate the model on the test set and calculate precision, and recall on both classes. Store the results in the\n",
        "# variables `precision_0`, `precision_1`, `recall_0`, `recall_1`.\n",
        "\n",
        "\n",
        "precision_0 = metrics.precision_score(Y_test, y_pred_test, pos_label=0)\n",
        "precision_1 = metrics.precision_score(Y_test, y_pred_test, pos_label=1)\n",
        "\n",
        "recall_0 = metrics.recall_score(Y_test, y_pred_test, pos_label=0)\n",
        "recall_1 = metrics.recall_score(Y_test, y_pred_test, pos_label=1)"
      ]
    },
    {
      "cell_type": "code",
      "execution_count": null,
      "id": "10698374",
      "metadata": {
        "deletable": false,
        "lx_assignment_number": "4",
        "lx_assignment_type": "ASSIGNMENT",
        "lx_assignment_type2print": "Assignment",
        "lx_problem_cell_type": "PROBLEM",
        "lx_problem_number": "1",
        "lx_problem_points": "24",
        "id": "10698374"
      },
      "outputs": [],
      "source": [
        "\n",
        "# Part 4\n",
        "\n",
        "def cost(model,threshold,X,Y):\n",
        "    # Hint, make sure that the model has a predict_proba method\n",
        "    # think about how the decision is made based on the probabilities\n",
        "    # and how the threshold can be used to make the decision.\n",
        "    # For reference take a look at the lecture notes \"Bayes classifier\"\n",
        "    # which contains how the decision is made based on the probabilities when the threshold is 0.5.\n",
        "\n",
        "    # Fill in what is missing to compute the cost and return it\n",
        "    # Note that we are interested in average cost\n",
        "    probabilities= model.predict_proba(X)\n",
        "\n",
        "    y_pred_proba= probabilities[:, 1]\n",
        "    y_pred = (y_pred_proba >= threshold).astype(int)\n",
        "\n",
        "    costs = (1 - y_pred) * Y + 5 * y_pred * (1 - Y)\n",
        "    total_cost = np.mean(costs)\n",
        "\n",
        "    return total_cost\n",
        "\n",
        "    # return XXX"
      ]
    },
    {
      "cell_type": "code",
      "execution_count": null,
      "id": "b21963ec",
      "metadata": {
        "deletable": false,
        "lx_assignment_number": "4",
        "lx_assignment_type": "ASSIGNMENT",
        "lx_assignment_type2print": "Assignment",
        "lx_problem_cell_type": "PROBLEM",
        "lx_problem_number": "1",
        "lx_problem_points": "24",
        "id": "b21963ec",
        "colab": {
          "base_uri": "https://localhost:8080/"
        },
        "outputId": "fbfb7aaf-075d-428f-e1aa-0aeb197ca790"
      },
      "outputs": [
        {
          "output_type": "stream",
          "name": "stdout",
          "text": [
            "0.8 0.27751196172248804\n"
          ]
        }
      ],
      "source": [
        "\n",
        "# Part 5\n",
        "\n",
        "# Find the optimal threshold for the model on the test set. Store the threshold in the variable `optimal_threshold`\n",
        "# and the cost at the optimal threshold in the variable `cost_at_optimal_threshold` evaluated on the test set.\n",
        "thresholds = [0.1,0.2,0.3,0.4,0.5,0.6,0.7,0.8,0.9]\n",
        "optimal_threshold = 10**10\n",
        "cost_at_optimal_threshold = 10**10\n",
        "min_costs = 10**10\n",
        "for i in thresholds:\n",
        "  costs = cost(model,i,X_test,Y_test)\n",
        "  if costs<min_costs:\n",
        "    min_costs = costs\n",
        "    optimal_threshold = i\n",
        "    cost_at_optimal_threshold = min_costs\n",
        "\n",
        "print(optimal_threshold,cost_at_optimal_threshold)\n",
        "#\n",
        "# optimal_threshold = XXX\n",
        "# cost_at_optimal_threshold = XXX"
      ]
    },
    {
      "cell_type": "code",
      "execution_count": null,
      "id": "79a1c5e6",
      "metadata": {
        "deletable": false,
        "lx_assignment_number": "4",
        "lx_assignment_type": "ASSIGNMENT",
        "lx_assignment_type2print": "Assignment",
        "lx_problem_cell_type": "PROBLEM",
        "lx_problem_number": "1",
        "lx_problem_points": "24",
        "id": "79a1c5e6"
      },
      "outputs": [],
      "source": [
        "\n",
        "# Part 6\n",
        "\n",
        "cost_at_optimal_threshold_valid = cost(model,optimal_threshold,X_valid,Y_valid)\n",
        "\n",
        "n = len(Y_valid)\n",
        "epsilon = np.sqrt(np.log(1/0.01) / (2 * n))\n",
        "cost_interval_valid = (cost_at_optimal_threshold_valid - epsilon, cost_at_optimal_threshold_valid + epsilon)\n",
        "\n",
        "assert(type(cost_interval_valid) == tuple)\n",
        "assert(len(cost_interval_valid) == 2)"
      ]
    },
    {
      "cell_type": "code",
      "execution_count": null,
      "id": "e3bc0760",
      "metadata": {
        "deletable": false,
        "lx_assignment_number": "4",
        "lx_assignment_type": "ASSIGNMENT",
        "lx_assignment_type2print": "Assignment",
        "lx_problem_cell_type": "PROBLEM",
        "lx_problem_number": "1",
        "lx_problem_points": "24",
        "id": "e3bc0760"
      },
      "outputs": [],
      "source": [
        "\n",
        "# Part 7\n",
        "probabilities= model.predict_proba(X_valid)\n",
        "y_pred_proba= probabilities[:, 1]\n",
        "\n",
        "y_val_preds = (y_pred_proba >= optimal_threshold).astype(int)\n",
        "C_val = (1 - y_val_preds) * Y_valid + 5 * y_val_preds * (1 - Y_valid)\n",
        "variance_of_C = np.var(C_val, ddof=1)\n",
        "\n",
        "epsilon_b = np.sqrt(2 * variance_of_C * np.log(1/0.01) / n)\n",
        "interval_of_C = (cost_at_optimal_threshold_valid - epsilon_b, cost_at_optimal_threshold_valid + epsilon_b)\n",
        "\n",
        "assert(type(interval_of_C) == tuple)\n",
        "assert(len(interval_of_C) == 2)"
      ]
    },
    {
      "cell_type": "code",
      "source": [],
      "metadata": {
        "id": "wrogWJof-V6F"
      },
      "id": "wrogWJof-V6F",
      "execution_count": null,
      "outputs": []
    }
  ],
  "metadata": {
    "lx_assignment_number": 4,
    "lx_course_instance": "2024",
    "lx_course_name": "Introduction to Data Science",
    "lx_course_number": "1MS041",
    "colab": {
      "provenance": []
    },
    "language_info": {
      "name": "python"
    },
    "kernelspec": {
      "name": "python3",
      "display_name": "Python 3"
    }
  },
  "nbformat": 4,
  "nbformat_minor": 5
}