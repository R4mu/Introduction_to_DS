{
  "nbformat": 4,
  "nbformat_minor": 0,
  "metadata": {
    "colab": {
      "provenance": []
    },
    "kernelspec": {
      "name": "python3",
      "display_name": "Python 3"
    },
    "language_info": {
      "name": "python"
    }
  },
  "cells": [
    {
      "cell_type": "markdown",
      "source": [
        "## Open files"
      ],
      "metadata": {
        "id": "p-PRtIl2HKlv"
      }
    },
    {
      "cell_type": "code",
      "execution_count": null,
      "metadata": {
        "id": "9XTMoPJn2lR-"
      },
      "outputs": [],
      "source": [
        "import csv\n",
        "\n",
        "with open ('data/final.csv', mode='r') as file:\n",
        "  reader = csv.reader(file)\n",
        "  header = next(reader)\n",
        "\n",
        "  data = []\n",
        "  for row in reader:\n",
        "    data.append(row)"
      ]
    },
    {
      "cell_type": "code",
      "source": [
        "import pandas as pd\n",
        "df_train = pd.read_csv('data/indoor_train.csv')\n",
        "data = pd.read_csv('data/spam.csv', encoding='ISO-8859-1')"
      ],
      "metadata": {
        "id": "6hhWEhwtHTVu"
      },
      "execution_count": null,
      "outputs": []
    },
    {
      "cell_type": "markdown",
      "source": [
        "##Lambda"
      ],
      "metadata": {
        "id": "iBb7yrwOH8o1"
      }
    },
    {
      "cell_type": "code",
      "source": [
        "# Hint the PMF of N is p_N(k) where p_N is\n",
        "from scipy.special import binom as binomial\n",
        "p1 = 6/10 #favourable outcome\n",
        "p_N = lambda k: binomial(10,k)*((1-p1)**(10-k))*((p1)**k)"
      ],
      "metadata": {
        "id": "yhEAWHUEHjKf"
      },
      "execution_count": null,
      "outputs": []
    },
    {
      "cell_type": "markdown",
      "source": [
        "## Split data\n"
      ],
      "metadata": {
        "id": "4ykgISeKK4O2"
      }
    },
    {
      "cell_type": "code",
      "source": [
        "problem3_X_train, problem3_X_temp, problem3_Y_train, problem3_Y_temp = train_test_split(problem3_X, problem3_Y, test_size=0.6, random_state=42)"
      ],
      "metadata": {
        "id": "znaDkpVHK42N"
      },
      "execution_count": null,
      "outputs": []
    },
    {
      "cell_type": "markdown",
      "source": [
        "##Using models\n"
      ],
      "metadata": {
        "id": "ed3OSPkrI6kF"
      }
    },
    {
      "cell_type": "code",
      "source": [
        "model = #model_name from sklearn\n",
        "\n",
        "model.fit(X_train, Y_train)\n",
        "y_pred_test = model.predict(X_test)"
      ],
      "metadata": {
        "id": "_reZdzJKLbrd"
      },
      "execution_count": null,
      "outputs": []
    },
    {
      "cell_type": "code",
      "source": [
        "model = Pipeline([\n",
        "    ('vectorizer', CountVectorizer()),\n",
        "    ('classifier', LogisticRegression(max_iter=1000, solver='liblinear'))\n",
        "])\n",
        "\n",
        "model.fit(X_train, Y_train)\n",
        "y_pred_test = model.predict(X_test)"
      ],
      "metadata": {
        "id": "aZwftz8wI5xW"
      },
      "execution_count": null,
      "outputs": []
    },
    {
      "cell_type": "markdown",
      "source": [
        "#Precision recall"
      ],
      "metadata": {
        "id": "5EQziOmhNyRF"
      }
    },
    {
      "cell_type": "code",
      "source": [
        "precision_1 = metrics.precision_score(Y_test, y_pred_test, pos_label=1)\n",
        "recall_0 = metrics.recall_score(Y_test, y_pred_test, pos_label=0)"
      ],
      "metadata": {
        "id": "QklP1LSgNywd"
      },
      "execution_count": null,
      "outputs": []
    }
  ]
}